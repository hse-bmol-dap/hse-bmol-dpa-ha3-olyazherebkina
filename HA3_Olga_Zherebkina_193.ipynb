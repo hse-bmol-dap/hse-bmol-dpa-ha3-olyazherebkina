{
 "cells": [
  {
   "cell_type": "markdown",
   "metadata": {},
   "source": [
    "# <center> Home Assignment 3</center>"
   ]
  },
  {
   "cell_type": "markdown",
   "metadata": {},
   "source": [
    "There are 5 tasks to be done. Each of them weighs 2 points. There is also an extra bonus task (it is a little bit harder), you are not required to solve it: you can get 10/10 by solving only the first 5 tasks. However, the bonus task also weighs 2 points and it serves as insurance in case you are not able to solve one of the first 5 tasks. If you solve everything, you will get the same 10/10 and will deserve respect."
   ]
  },
  {
   "cell_type": "markdown",
   "metadata": {},
   "source": [
    "**Task 1. (2 points)** <br>\n",
    "**<center> List compression</center>**"
   ]
  },
  {
   "cell_type": "markdown",
   "metadata": {},
   "source": [
    "You are given a list of integers (in the input: numbers in one line separated by one whitespace). It is required to write a function that “compresses” the given list by moving all non-zero elements to the ```left side``` of the list without changing their order, and all zeros to the ```right side```. The order of non-zero elements cannot be changed, an additional list (memory) ```cannot be used```, the task must be completed in ```one pass``` through the list. The function is supposed to return the resulting list. <br>\n",
    "**Example:** <br>\n",
    "```input:```  ```4 0 5 0 3 0 0 5``` <br>\n",
    "array = [4, 0, 5, 0, 3, 0, 0, 5] <br>\n",
    "```output:``` [4, 5, 3, 5, 0, 0, 0, 0]"
   ]
  },
  {
   "cell_type": "code",
   "execution_count": 13,
   "metadata": {},
   "outputs": [
    {
     "name": "stdout",
     "output_type": "stream",
     "text": [
      "4 0 5 0 3 0 0 5 \n",
      "[4, 5, 3, 5, 0, 0, 0, 0]\n"
     ]
    }
   ],
   "source": [
    "#1. making lists look pretty\n",
    "\n",
    "array = [int(x) for x in input().split()]\n",
    "\n",
    "# 1. removing nonzeros to the left and zeroes to the rights which is a great analogy for political views too\n",
    "\n",
    "def compress_list(array):\n",
    "    my_list = [] #creating a list\n",
    "    \n",
    "    for y in range (len(array)):\n",
    "        my_list.append (0) #adding it to the end of the given list\n",
    "        \n",
    "    non_zeros = 0\n",
    "    \n",
    "    for x in array:\n",
    "        if x != 0: #if an input number (lets call it x) is not a zero\n",
    "            my_list [non_zeros] = x\n",
    "            non_zeros = non_zeros + 1 \n",
    "    print (my_list)\n",
    "compress_list(array)"
   ]
  },
  {
   "cell_type": "markdown",
   "metadata": {},
   "source": [
    "**Task 2. (2 points)** <br>\n",
    "**<center> The 2020 United States presidential election</center>**"
   ]
  },
  {
   "cell_type": "markdown",
   "metadata": {},
   "source": [
    "As you know, in the United States the president is not elected by a direct vote, but by a two-level vote. First, elections are held in each state and the winner of the elections in that state is determined. Then the state elections are held: in these elections, each state has a certain number of votes - the number of electors from that state. In practice, all state electors vote according to the results of intra-state voting, that is, states with a different number of votes vote in the final stage of elections. You know who each state voted for and how many votes were cast by that state. Sum up the results of the elections: for each of the voting participants, determine the number of votes cast for him. <br>\n",
    "**Input format:** <br> \n",
    "Each line of the input consists of ```the surname of the candidate```, for which the electors of that state are voting, followed by ```the number of electors``` who voted for this candidate, separated by a space. The input lines are supposed to be read in a cycle. The input itself ends when the following line contains ```-1```. In the end, you should obtain a list ```input_lines``` with strings, where one string equals to one input line (e.g. 'McCain 10'). <br>\n",
    "**Output format:** <br>\n",
    "Print the surnames of all candidates in a lexicographic order and the number of votes cast for them, separated by a space. <br>\n",
    "**Example:** <br>\n",
    "```input:``` <br> \n",
    "```McCain 10\n",
    "McCain 5\n",
    "Obama 9\n",
    "Obama 8\n",
    "McCain 1\n",
    "-1``` <br>\n",
    "\n",
    "input_lines = ['McCain 10', 'McCain 5', 'Obama 9', 'Obama 8', 'McCain 1'] <br>\n",
    "\n",
    "```output:``` <br>\n",
    "McCain 16 <br>\n",
    "Obama 17 <br>"
   ]
  },
  {
   "cell_type": "code",
   "execution_count": 1,
   "metadata": {},
   "outputs": [
    {
     "name": "stdout",
     "output_type": "stream",
     "text": [
      "McCain 10\n",
      "McCain 5\n",
      "McCain 1\n",
      "Obama 2\n",
      "Obama 8\n",
      "-1\n",
      "the results are:  McCain 16\n",
      "the results are:  Obama 10\n"
     ]
    }
   ],
   "source": [
    "# 2. Creating a list of candidates and number of votes they received \n",
    "\n",
    "# Input\n",
    "input_lines = []\n",
    "\n",
    "while (True): #creating a loop\n",
    "    data = input () #inputing the names and votes\n",
    "    \n",
    "    if (data == '-1'):\n",
    "        break #the task indicated that the input should end once we input -1\n",
    "    else:\n",
    "        input_lines.append (data) #adding stuff to the list\n",
    "\n",
    "def count_votes(input_lines):\n",
    "    ballot = {} #creating a dictionary ig\n",
    "    for i in input_lines:\n",
    "        x = i.split () #spliting the elements\n",
    "        votes = ballot.get(x[0],0) #extracting the needed element\n",
    "        ballot[x[0]] = votes + int(x[1])\n",
    "        \n",
    "    update = list (ballot.keys()) #returning the keys to the updated list\n",
    "    sorted (update) \n",
    "    for y in update:\n",
    "        print('the results are: ', y, ballot[y])\n",
    "\n",
    "count_votes(input_lines)\n",
    "    "
   ]
  },
  {
   "cell_type": "markdown",
   "metadata": {},
   "source": [
    "**Task 3. (2 points)** <br>\n",
    "**<center> Matching pairs</center>**"
   ]
  },
  {
   "cell_type": "markdown",
   "metadata": {},
   "source": [
    "You are given a list of numbers (in the input: numbers in one line separated by one whitespace). Write a function that returns the number of pairs of elements which are equal to each other. It is considered that ```any``` two elements equal to each other form one pair, which must be counted. Indices of elements matters. In Test 2, in terms of indices, 10 pairs are the following: [0, 1], [0, 2], [0, 3], [0, 4], [1, 2], [1, 3], [1, 4], [2, 3], [2, 4], [3, 4]. That's why the answer is 10.  <br>\n",
    "**Examples:** <br>\n",
    "**Test 1** <br>\n",
    "```input:``` ```1 2 3 2 3``` <br>\n",
    "array = [1, 2, 3, 2, 3] <br>\n",
    "```output:``` 2 <br>\n",
    "**Test 2** <br>\n",
    "```input:``` ```1 1 1 1 1``` <br>\n",
    "array = [1, 1, 1, 1, 1] <br>\n",
    "```output:``` 10 <br>"
   ]
  },
  {
   "cell_type": "code",
   "execution_count": 12,
   "metadata": {
    "scrolled": false
   },
   "outputs": [
    {
     "name": "stdout",
     "output_type": "stream",
     "text": [
      "1 1 1 1 1\n",
      "the number of pairs that are equal to each other:  10\n"
     ]
    }
   ],
   "source": [
    "#3. Counting how many of the input pairs are equal to each other\n",
    "array = [int(x) for x in input().split()]\n",
    "\n",
    "def count_pairs(array):\n",
    "    number_of_pairs = 0\n",
    "    for i in range (len(array)-1):\n",
    "        \n",
    "         for x in range(i + 1, len(array)):\n",
    "                \n",
    "                if(array[i] == array[x]):\n",
    "                    number_of_pairs = number_of_pairs + 1\n",
    "    print ('the number of pairs that are equal to each other: ', number_of_pairs)\n",
    "count_pairs(array)"
   ]
  },
  {
   "cell_type": "markdown",
   "metadata": {},
   "source": [
    "**Task 4. (2 points)** <br>\n",
    "**<center> The most frequent countries</center>**"
   ]
  },
  {
   "cell_type": "markdown",
   "metadata": {},
   "source": [
    "Your are given a list of countries (in the input: countries in one line separated by one whitespace). It is required to write a function that determines which country occurs most often in this list and returns it without ```changing``` an input list or using ```additional lists```. If there are several such countries, return a list with all of them. <br>\n",
    "**Examples:** <br>\n",
    "**Test 1** <br>\n",
    "```input:``` ```India Austria India Italy Austria India``` <br>\n",
    "countries = ['India', 'Austria', 'India', 'Italy', 'Austria', 'India'] <br>\n",
    "```output:``` 'India' <br>\n",
    "**Test 2** <br>\n",
    "```input:``` ```Germany Poland Russia Germany France Russia``` <br>\n",
    "countries = ['Germany', 'Poland', 'Russia', 'Germany', 'France', 'Russia'] <br>\n",
    "```output:``` ['Germany', 'Russia']"
   ]
  },
  {
   "cell_type": "code",
   "execution_count": 20,
   "metadata": {},
   "outputs": [
    {
     "name": "stdout",
     "output_type": "stream",
     "text": [
      "India Austria India Italy Austria India \n",
      "the most frequent state(s) is/are:  India\n"
     ]
    }
   ],
   "source": [
    "#4. Which country/ies occur(s) most often?\n",
    "\n",
    "countries = [x for x in input().split()]\n",
    "\n",
    "def most_frequent_countries(countries):\n",
    "    list_countries = {} #creating a new dictionary where we input our states\n",
    "    for one_state in countries: \n",
    "        x = list_countries.get(one_state, 0) #extracting the needed element\n",
    "        list_countries[one_state] = x + 1 #remembering how many times it was mentioned\n",
    "    \n",
    "    update = list()\n",
    "    max_value = max(list(list_countries.values()))\n",
    "    for country, x in list_countries.items():\n",
    "        if(x == max_value):\n",
    "            update.append(country) #moving to the end of the list\n",
    "    if(len(update) == 1):\n",
    "        print ('the most frequent state(s) is/are: ', update[0])\n",
    "    else:\n",
    "        print ('the most frequent state(s) is/are: ', update)\n",
    "    \n",
    "most_frequent_countries(countries)     "
   ]
  },
  {
   "cell_type": "markdown",
   "metadata": {},
   "source": [
    "**Task 5. (2 points)** <br>\n",
    "**<center> The Queen's Gambit </center>**"
   ]
  },
  {
   "cell_type": "markdown",
   "metadata": {},
   "source": [
    "It is known that 8 queens can be placed on an 8 × 8 chessboard so that they do not beat each other. You are given the arrangement of 8 queens on the board, determine if there is a pair of them hitting each other. <br>\n",
    "**Input format:** <br>\n",
    "The program receives eight pairs of numbers as an input, each number from 1 to 8 is the coordinates of 8 queens.<br>\n",
    "**Output format:** <br>\n",
    "If the queens do not beat each other, print the word ```NO```, otherwise print ```YES```. <br>\n",
    "**Examples:** <br>\n",
    "**Test 1** <br>\n",
    "```input:``` <br>\n",
    "1 7 <br>\n",
    "2 4 <br>\n",
    "3 2 <br>\n",
    "4 8 <br>\n",
    "5 6 <br>\n",
    "6 1 <br>\n",
    "7 3 <br>\n",
    "8 5 <br>\n",
    "```output:``` <br>\n",
    "NO <br>\n",
    "**Test 2** <br>\n",
    "```input:``` <br>\n",
    "1 8 <br>\n",
    "2 7 <br>\n",
    "3 6 <br>\n",
    "4 5 <br>\n",
    "5 4 <br>\n",
    "6 3 <br>\n",
    "7 2 <br>\n",
    "8 1 <br>\n",
    "```output:``` <br>\n",
    "YES"
   ]
  },
  {
   "cell_type": "code",
   "execution_count": 23,
   "metadata": {},
   "outputs": [
    {
     "name": "stdout",
     "output_type": "stream",
     "text": [
      "1 7\n",
      "2 4\n",
      "3 2\n",
      "4 8\n",
      "5 6\n",
      "6 1\n",
      "7 3\n",
      "8 5\n",
      "queens staying peaceful reaching consensus\n"
     ]
    }
   ],
   "source": [
    "#5. Determining if there is a pair of queens that may hit each other\n",
    "\n",
    "# input\n",
    "input_lines = [[0] * 2 for x in range(8)] #cause we have 8 queens (8x8)\n",
    "for x in range(8):\n",
    "    a = input().split(' ') #splitting the input\n",
    "    for y in range(2):\n",
    "        input_lines[x][y] = int(a[y])\n",
    "        \n",
    "def is_beatenen_by_queen(input_lines):\n",
    "    annihilated = True\n",
    "    for x in range(len(input_lines) - 1):\n",
    "        \n",
    "        for y in range(x + 1, len(input_lines)):\n",
    "            #checking for the possibility of an arrangement of destruction\n",
    "            \n",
    "            if(input_lines[y][1] - input_lines[y][0] == input_lines[x][1] - input_lines[x][0]):\n",
    "               annihilated = False #means that its all peaceful here no violence happening\n",
    "            \n",
    "            elif(input_lines[y][0] + input_lines[y][1] == input_lines[x][0] + input_lines[x][1]):\n",
    "                annihilated = False #again no violence\n",
    "                \n",
    "            elif(input_lines[y][1] == input_lines[x][1]):\n",
    "                annihilated = False #they not hitting \n",
    "                \n",
    "            elif(input_lines[y][0] == input_lines[x][0]):\n",
    "                annihilated= False\n",
    "    if(annihilated):\n",
    "        print ('queens staying peaceful reaching consensus')\n",
    "    else:\n",
    "        print ('queens violent')\n",
    "        \n",
    "is_beatenen_by_queen(input_lines)"
   ]
  },
  {
   "cell_type": "markdown",
   "metadata": {},
   "source": [
    "**Bonus task! 2 additional points** <br>\n",
    "**<center> Family tree</center>**"
   ]
  },
  {
   "cell_type": "markdown",
   "metadata": {},
   "source": [
    "In the family tree, each person, except for the ancestor, has exactly one parent. Each element of the tree is associated with a ```non-negative integer``` called the height. The ancestor has a height of 0, any other element has a height 1 ```more``` than its parent. You are given a family tree, determine the height of all its elements. <br>\n",
    "**Input format:** <br>\n",
    "The program receives as input the number of elements in the family tree N. Then N-1 lines follow, specifying the parent for each element of the tree, except for the ancestor. Each line has the form descendant_name parent_name (two words separated by a space) <br>\n",
    "**Output format:** <br>\n",
    "The program should list all the elements in the tree in a lexicographic order. After printing the name of each element, it should print its height. <br>\n",
    "**Note:** <br>\n",
    "This problem has a solution of complexity O(n), but you only need to write a solution of complexity O(n²) (not counting the complexity of accessing the elements of the dictionary). The example below corresponds to the given tree of the Romanov family. <br>\n",
    "**Example:** <br>\n",
    "```input:``` <br>\n",
    "9 <br>\n",
    "Alexei Peter_I <br>\n",
    "Anna Peter_I <br>\n",
    "Elizabeth Peter_I <br>\n",
    "Peter_II Alexei <br>\n",
    "Peter_III Anna <br>\n",
    "Paul_I Peter_III <br>\n",
    "Alexander_I Paul_I <br>\n",
    "Nicholaus_I Paul_I <br>\n",
    "```output:``` <br>\n",
    "Alexander_I 4 <br>\n",
    "Alexei 1 <br>\n",
    "Anna 1 <br>\n",
    "Elizabeth 1 <br>\n",
    "Nicholaus_I 4 <br>\n",
    "Paul_I 3 <br>\n",
    "Peter_I 0 <br>\n",
    "Peter_II 2 <br>\n",
    "Peter_III 2 <br>"
   ]
  },
  {
   "cell_type": "code",
   "execution_count": null,
   "metadata": {},
   "outputs": [],
   "source": [
    "# im sorry i couldnt solve this one :("
   ]
  },
  {
   "cell_type": "code",
   "execution_count": null,
   "metadata": {},
   "outputs": [],
   "source": []
  }
 ],
 "metadata": {
  "kernelspec": {
   "display_name": "Python 3",
   "language": "python",
   "name": "python3"
  },
  "language_info": {
   "codemirror_mode": {
    "name": "ipython",
    "version": 3
   },
   "file_extension": ".py",
   "mimetype": "text/x-python",
   "name": "python",
   "nbconvert_exporter": "python",
   "pygments_lexer": "ipython3",
   "version": "3.8.5"
  }
 },
 "nbformat": 4,
 "nbformat_minor": 4
}
